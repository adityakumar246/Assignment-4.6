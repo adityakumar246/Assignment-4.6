{
 "cells": [
  {
   "cell_type": "markdown",
   "metadata": {},
   "source": [
    "QUESTION"
   ]
  },
  {
   "cell_type": "markdown",
   "metadata": {},
   "source": [
    "Problem Statement 1:\n",
    "Two balls are drawn at random in succession without replacement from an urn\n",
    "containing 4 red balls and 6 black balls.\n",
    "Find the probabilities of all the possible outcomes."
   ]
  },
  {
   "cell_type": "markdown",
   "metadata": {},
   "source": [
    "ANSWER"
   ]
  },
  {
   "cell_type": "code",
   "execution_count": 5,
   "metadata": {},
   "outputs": [
    {
     "name": "stdout",
     "output_type": "stream",
     "text": [
      "Note : 1.Red-Red, 2.Black-Black, 3.Red-Black, 4.Black-Red\n",
      "Enter a digit 1/2/3/4 :3\n",
      "Probability of Red-Red is : 0.26666666666666666\n"
     ]
    }
   ],
   "source": [
    "print(\"Note : 1.Red-Red, 2.Black-Black, 3.Red-Black, 4.Black-Red\") \n",
    "x=input(\"Enter a digit 1/2/3/4 :\") \n",
    "if x.isdigit(): \n",
    "    if int(eval(x)) == 1: \n",
    "        p= (4/10)*(3/9) \n",
    "        print(\"Probability of Red-Red is : \",end='') \n",
    "        print(p) \n",
    "    elif int(eval(x)) == 2: \n",
    "        p= (6/10)*(5/9) \n",
    "        print(\"Probability of Red-Red is : \",end='') \n",
    "        print(p) \n",
    "    elif int(eval(x)) == 3: \n",
    "        p= (4/10)*(6/9) \n",
    "        print(\"Probability of Red-Red is : \",end='') \n",
    "        print(p) \n",
    "    elif int(eval(x)) == 4: \n",
    "        p= (6/10)*(4/9) \n",
    "        print(\"Probability of Red-Red is : \",end='') \n",
    "        print(p) \n",
    "    else: \n",
    "        print(\"enter the number 1/2/3/4 only\") \n",
    "else: \n",
    "    print(\"inser a number please\")"
   ]
  }
 ],
 "metadata": {
  "kernelspec": {
   "display_name": "Python 3",
   "language": "python",
   "name": "python3"
  },
  "language_info": {
   "codemirror_mode": {
    "name": "ipython",
    "version": 3
   },
   "file_extension": ".py",
   "mimetype": "text/x-python",
   "name": "python",
   "nbconvert_exporter": "python",
   "pygments_lexer": "ipython3",
   "version": "3.6.6"
  }
 },
 "nbformat": 4,
 "nbformat_minor": 2
}
